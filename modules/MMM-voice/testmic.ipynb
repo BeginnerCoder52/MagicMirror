{
 "cells": [
  {
   "cell_type": "code",
   "execution_count": 1,
   "metadata": {},
   "outputs": [
    {
     "name": "stdout",
     "output_type": "stream",
     "text": [
      "  0 HD-Audio Generic: HDMI 0 (hw:0,3), ALSA (0 in, 8 out)\n",
      "  1 HD-Audio Generic: ALC255 Analog (hw:1,0), ALSA (2 in, 0 out)\n",
      "  2 hdmi, ALSA (0 in, 8 out)\n",
      "  3 pulse, ALSA (32 in, 32 out)\n",
      "* 4 default, ALSA (32 in, 32 out)\n"
     ]
    }
   ],
   "source": [
    "import sounddevice as sd\n",
    "\n",
    "print(sd.query_devices())\n"
   ]
  }
 ],
 "metadata": {
  "kernelspec": {
   "display_name": ".venv",
   "language": "python",
   "name": "python3"
  },
  "language_info": {
   "codemirror_mode": {
    "name": "ipython",
    "version": 3
   },
   "file_extension": ".py",
   "mimetype": "text/x-python",
   "name": "python",
   "nbconvert_exporter": "python",
   "pygments_lexer": "ipython3",
   "version": "3.12.3"
  }
 },
 "nbformat": 4,
 "nbformat_minor": 2
}
